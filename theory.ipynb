{
 "cells": [
  {
   "cell_type": "markdown",
   "metadata": {},
   "source": [
    "## Running Time"
   ]
  },
  {
   "cell_type": "markdown",
   "metadata": {},
   "source": [
    "When we execute the function splitSwap(a, $0$, n) its take an ammount of time $c$ to execute the if condition, then the function recall itself two time and work on array of lenght $\\frac{n}{2}$ . Finally the function call anothe function named swapList, that take a time $O(n)$ to be executed.\n",
    "We call $T(n)$ time function.  \n",
    "\n",
    "$T(n) = c + 2T(\\frac{n}{2}) + b\\frac{n}{2} = 3c + 4T(\\frac{n}{4}) + bn = 7c +8T(\\frac{n}{8}) +\\frac{3}{2}bn = (2^{i}-1)c + 2^{i}T(\\frac{n}{2^{i}}) + \\frac{i}{2}bn$  \n",
    "\n",
    "The function stop to recall itself when $\\frac{n}{2^{i}}=1 \\rightarrow i = \\log_{2}(n)$. replacing it in the time equation, we get an running time $O\\big(n \\log(n)\\big)$."
   ]
  },
  {
   "cell_type": "markdown",
   "metadata": {},
   "source": [
    "## Mechanism of the Algorithm"
   ]
  },
  {
   "cell_type": "markdown",
   "metadata": {},
   "source": [
    "the first time we call the function splitSwap(a, $0$, n) the given matrix is cut in half and the position of the two halves is exchanged. then the function recall itself two time and repeat the described process to heach halves. At the end the array is inverted. \n",
    "We can perform a faster algorithm using a for-loop. \n",
    "if A[ ] is an array of lenght n\n",
    "\n"
   ]
  },
  {
   "cell_type": "code",
   "execution_count": null,
   "metadata": {},
   "outputs": [],
   "source": [
    "for i in range(n/2):  \n",
    "    tmb = A[i]  \n",
    "    A[i] = A[n -i]  \n",
    "    A[n - i] = tmb "
   ]
  },
  {
   "cell_type": "markdown",
   "metadata": {},
   "source": [
    "This Algorithm has a running time O(n)"
   ]
  }
 ],
 "metadata": {
  "kernelspec": {
   "display_name": "Python 3",
   "language": "python",
   "name": "python3"
  },
  "language_info": {
   "codemirror_mode": {
    "name": "ipython",
    "version": 3
   },
   "file_extension": ".py",
   "mimetype": "text/x-python",
   "name": "python",
   "nbconvert_exporter": "python",
   "pygments_lexer": "ipython3",
   "version": "3.7.3"
  }
 },
 "nbformat": 4,
 "nbformat_minor": 2
}
